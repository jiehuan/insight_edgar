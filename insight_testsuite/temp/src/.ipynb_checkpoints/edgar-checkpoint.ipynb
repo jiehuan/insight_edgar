{
 "cells": [
  {
   "cell_type": "code",
   "execution_count": 89,
   "metadata": {},
   "outputs": [],
   "source": [
    "import numpy as np\n",
    "from datetime import datetime\n",
    "from dateutil.parser import parse"
   ]
  },
  {
   "cell_type": "code",
   "execution_count": 116,
   "metadata": {},
   "outputs": [
    {
     "name": "stdout",
     "output_type": "stream",
     "text": [
      "['24.128.96.beh' '2003-12-31 01:07:45' '2003-12-31 01:07:48' '1' '2'\n",
      " '1072850865.0' '8']\n",
      "['24.128.96.beh' '2003-12-31 01:07:45' '2003-12-31 01:07:48' '1' '2'\n",
      " '1072850865.0' '8']\n",
      "['205.138.214.ech' '2003-12-31 01:10:17' '2003-12-31 01:16:50' '391' '5'\n",
      " '1072851017.0' '17']\n",
      "['24.128.96.beh' '2003-12-31 01:07:48' '2003-12-31 01:27:55' '1205' '24'\n",
      " '1072850868.0' '10']\n",
      "['205.138.214.ech' '2003-12-31 01:18:03' '2003-12-31 01:27:56' '591' '4'\n",
      " '1072851483.0' '34']\n",
      "['205.138.214.ech' '2003-12-31 01:18:03' '2003-12-31 01:27:56' '591' '4'\n",
      " '1072851483.0' '34']\n",
      "['24.128.96.beh' '2003-12-31 01:27:56' '2003-12-31 01:27:59' '1' '2'\n",
      " '1072852076.0' '47']\n"
     ]
    },
    {
     "ename": "KeyError",
     "evalue": "'24.128.96.beh'",
     "output_type": "error",
     "traceback": [
      "\u001b[0;31m---------------------------------------------------------------------------\u001b[0m",
      "\u001b[0;31mKeyError\u001b[0m                                  Traceback (most recent call last)",
      "\u001b[0;32m<ipython-input-116-855a5033e2c3>\u001b[0m in \u001b[0;36m<module>\u001b[0;34m()\u001b[0m\n\u001b[1;32m     45\u001b[0m                     \u001b[0;32melse\u001b[0m\u001b[0;34m:\u001b[0m\u001b[0;34m\u001b[0m\u001b[0m\n\u001b[1;32m     46\u001b[0m                         \u001b[0;32mfor\u001b[0m \u001b[0mip_key\u001b[0m \u001b[0;32min\u001b[0m \u001b[0mlast_active\u001b[0m\u001b[0;34m[\u001b[0m\u001b[0mtime_list\u001b[0m\u001b[0;34m[\u001b[0m\u001b[0;34m-\u001b[0m\u001b[0;36m1\u001b[0m\u001b[0;34m]\u001b[0m\u001b[0;34m]\u001b[0m\u001b[0;34m:\u001b[0m\u001b[0;34m\u001b[0m\u001b[0m\n\u001b[0;32m---> 47\u001b[0;31m                             \u001b[0mt\u001b[0m \u001b[0;34m=\u001b[0m \u001b[0mtime_list\u001b[0m\u001b[0;34m[\u001b[0m\u001b[0;34m-\u001b[0m\u001b[0;36m1\u001b[0m\u001b[0;34m]\u001b[0m\u001b[0;34m-\u001b[0m\u001b[0mfirst_active\u001b[0m\u001b[0;34m[\u001b[0m\u001b[0mip_key\u001b[0m\u001b[0;34m]\u001b[0m\u001b[0;34m[\u001b[0m\u001b[0;36m1\u001b[0m\u001b[0;34m]\u001b[0m\u001b[0;34m+\u001b[0m\u001b[0;36m1\u001b[0m\u001b[0;34m\u001b[0m\u001b[0m\n\u001b[0m\u001b[1;32m     48\u001b[0m                             np_res = np.array([ip_key, first_active[ip_key][0], time, str(int(t)), str(len(count[ip_key])), \n\u001b[1;32m     49\u001b[0m                                                 first_active[ip_key][1], first_active[ip_key][2]])\n",
      "\u001b[0;31mKeyError\u001b[0m: '24.128.96.beh'"
     ]
    }
   ],
   "source": [
    "inactivity_period = open(\"../input/inactivity_period.txt\", \"r\")\n",
    "interval = int(inactivity_period.readline())\n",
    "inactivity_period.close()\n",
    "\n",
    "w = open(\"../output/sessionization.txt\", \"w\")\n",
    "\n",
    "first_active = dict()\n",
    "last_active = dict()\n",
    "count = dict()\n",
    "time_dict = dict()\n",
    "\n",
    "with open(\"../input/log20031231.csv\", \"r\") as f:\n",
    "    for i, line in enumerate(f):\n",
    "        if i>0:\n",
    "            s = line.split(',')\n",
    "            IP = s[0]\n",
    "            ID = s[4] + s[5] + s[6]\n",
    "            time = s[1] +' '+ s[2]\n",
    "            timestamp = parse(time).timestamp()\n",
    "\n",
    "            if IP not in first_active:\n",
    "                first_active[IP] = [time, timestamp, i]\n",
    "            if IP not in count:\n",
    "                count[IP] = set()\n",
    "                count[IP].add(ID)\n",
    "            else:\n",
    "                count[IP].add(ID)\n",
    "\n",
    "            if timestamp not in last_active:\n",
    "                last_active[timestamp] = set()\n",
    "                time_dict[timestamp] = time\n",
    "                time_list = []\n",
    "                for i in range(1, interval+2):\n",
    "                    time_list.append(timestamp-i)\n",
    "                if time_list[-1] in last_active:\n",
    "                    if len(last_active[time_list[-1]])>1:\n",
    "                        np_res = np.array([])\n",
    "                        for ip_key in last_active[time_list[-1]]:\n",
    "                            t = time_list[-1]-first_active[ip_key][1]+1\n",
    "                            np_line = np.array([ip_key, first_active[ip_key][0], time, str(int(t)), str(len(count[ip_key])), \n",
    "                                                first_active[ip_key][1], first_active[ip_key][2]])\n",
    "                            np_res = np.append(np_res, np_line)\n",
    "                            del first_active[ip_key]\n",
    "                            del count[ip_key]\n",
    "                    else:\n",
    "                        for ip_key in last_active[time_list[-1]]:\n",
    "                            t = time_list[-1]-first_active[ip_key][1]+1\n",
    "                            np_res = np.array([ip_key, first_active[ip_key][0], time, str(int(t)), str(len(count[ip_key])), \n",
    "                                                first_active[ip_key][1], first_active[ip_key][2]])\n",
    "                            del first_active[ip_key]\n",
    "                            del count[ip_key]\n",
    "                    print (np_res)\n",
    "                    del last_active[time_list[-1]]\n",
    "                    del time_dict[time_list[-1]]\n",
    "                    del time_list[-1]\n",
    "\n",
    "            for j in range(interval):\n",
    "                if time_list[j] in last_active:\n",
    "                    if IP in last_active[time_list[j]]:\n",
    "                        last_active[time_list[j]].remove(IP)\n",
    "            last_active[timestamp].add(IP)\n",
    "\n",
    "time_list.append(timestamp)\n",
    "for k in range(len(time_list)):\n",
    "    if time_list[k] in last_active:\n",
    "        for ip_key in last_active[time_list[k]]:\n",
    "            res = []\n",
    "            t = time_list[k]-first_active[ip_key][1]+1\n",
    "            res.append(ip_key)\n",
    "            res.append(first_active[ip_key][0])\n",
    "            res.append(time_dict[time_list[k]])\n",
    "            res.append(str(int(t)))\n",
    "            res.append(str(len(count[ip_key])))\n",
    "            res_line = ','.join(res)\n",
    "            w.write(res_line)\n",
    "            w.write('\\n')\n",
    "            del first_active[ip_key]\n",
    "            del count[ip_key]\n",
    "del last_active\n",
    "del time_dict\n",
    "del first_active\n",
    "del time_list\n",
    "\n",
    "w.close()\n",
    "f.close()"
   ]
  },
  {
   "cell_type": "code",
   "execution_count": 107,
   "metadata": {},
   "outputs": [
    {
     "data": {
      "text/plain": [
       "7"
      ]
     },
     "execution_count": 107,
     "metadata": {},
     "output_type": "execute_result"
    }
   ],
   "source": [
    "np_res.shape[0]"
   ]
  },
  {
   "cell_type": "code",
   "execution_count": 79,
   "metadata": {},
   "outputs": [
    {
     "data": {
      "text/plain": [
       "[1498795203.0, 1498795202.0, 1498795204.0]"
      ]
     },
     "execution_count": 79,
     "metadata": {},
     "output_type": "execute_result"
    }
   ],
   "source": [
    "time_list"
   ]
  },
  {
   "cell_type": "code",
   "execution_count": 80,
   "metadata": {},
   "outputs": [
    {
     "ename": "NameError",
     "evalue": "name 'time_dict' is not defined",
     "output_type": "error",
     "traceback": [
      "\u001b[0;31m---------------------------------------------------------------------------\u001b[0m",
      "\u001b[0;31mNameError\u001b[0m                                 Traceback (most recent call last)",
      "\u001b[0;32m<ipython-input-80-cde5ebd084df>\u001b[0m in \u001b[0;36m<module>\u001b[0;34m()\u001b[0m\n\u001b[0;32m----> 1\u001b[0;31m \u001b[0mtime_dict\u001b[0m\u001b[0;34m\u001b[0m\u001b[0m\n\u001b[0m",
      "\u001b[0;31mNameError\u001b[0m: name 'time_dict' is not defined"
     ]
    }
   ],
   "source": [
    "time_dict"
   ]
  },
  {
   "cell_type": "code",
   "execution_count": 39,
   "metadata": {},
   "outputs": [
    {
     "data": {
      "text/plain": [
       "{}"
      ]
     },
     "execution_count": 39,
     "metadata": {},
     "output_type": "execute_result"
    }
   ],
   "source": [
    "first_active"
   ]
  },
  {
   "cell_type": "code",
   "execution_count": 458,
   "metadata": {},
   "outputs": [
    {
     "data": {
      "text/plain": [
       "1"
      ]
     },
     "execution_count": 458,
     "metadata": {},
     "output_type": "execute_result"
    }
   ],
   "source": [
    "len(count['101.81.133.jja'])"
   ]
  },
  {
   "cell_type": "code",
   "execution_count": 275,
   "metadata": {},
   "outputs": [
    {
     "data": {
      "text/plain": [
       "4.0"
      ]
     },
     "execution_count": 275,
     "metadata": {},
     "output_type": "execute_result"
    }
   ],
   "source": [
    "parse(time).timestamp()-parse(main['101.81.133.jja']).timestamp()"
   ]
  },
  {
   "cell_type": "code",
   "execution_count": 276,
   "metadata": {},
   "outputs": [
    {
     "data": {
      "text/plain": [
       "{'1618174.00001140361-17-026711.txt'}"
      ]
     },
     "execution_count": 276,
     "metadata": {},
     "output_type": "execute_result"
    }
   ],
   "source": [
    "count[ip]"
   ]
  },
  {
   "cell_type": "code",
   "execution_count": 277,
   "metadata": {},
   "outputs": [
    {
     "data": {
      "text/plain": [
       "'108.91.91.hbc'"
      ]
     },
     "execution_count": 277,
     "metadata": {},
     "output_type": "execute_result"
    }
   ],
   "source": [
    "ip"
   ]
  },
  {
   "cell_type": "code",
   "execution_count": 246,
   "metadata": {},
   "outputs": [
    {
     "data": {
      "text/plain": [
       "4"
      ]
     },
     "execution_count": 246,
     "metadata": {},
     "output_type": "execute_result"
    }
   ],
   "source": [
    "int(4.0)"
   ]
  },
  {
   "cell_type": "code",
   "execution_count": 247,
   "metadata": {},
   "outputs": [
    {
     "data": {
      "text/plain": [
       "<_io.TextIOWrapper name='../input/sessionization.txt' mode='w' encoding='UTF-8'>"
      ]
     },
     "execution_count": 247,
     "metadata": {},
     "output_type": "execute_result"
    }
   ],
   "source": [
    "w"
   ]
  },
  {
   "cell_type": "code",
   "execution_count": 237,
   "metadata": {},
   "outputs": [],
   "source": [
    "w.newlines"
   ]
  },
  {
   "cell_type": "code",
   "execution_count": null,
   "metadata": {},
   "outputs": [],
   "source": []
  }
 ],
 "metadata": {
  "kernelspec": {
   "display_name": "Python [conda root]",
   "language": "python",
   "name": "conda-root-py"
  },
  "language_info": {
   "codemirror_mode": {
    "name": "ipython",
    "version": 3
   },
   "file_extension": ".py",
   "mimetype": "text/x-python",
   "name": "python",
   "nbconvert_exporter": "python",
   "pygments_lexer": "ipython3",
   "version": "3.6.5"
  }
 },
 "nbformat": 4,
 "nbformat_minor": 2
}
